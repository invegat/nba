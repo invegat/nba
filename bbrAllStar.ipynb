{
 "cells": [
  {
   "cell_type": "code",
   "execution_count": 8,
   "metadata": {
    "ExecuteTime": {
     "end_time": "2020-10-21T21:55:05.129248Z",
     "start_time": "2020-10-21T21:55:05.124284Z"
    }
   },
   "outputs": [],
   "source": [
    "from selenium import webdriver\n",
    "from selenium.webdriver.common.keys import Keys\n",
    "from selenium.webdriver.common.by import By\n",
    "from selenium.webdriver.support.ui import WebDriverWait\n",
    "from selenium.common.exceptions import WebDriverException\n",
    "from bs4 import BeautifulSoup\n",
    "import numpy as np\n",
    "import pandas as pd\n",
    "import matplotlib.pyplot as plt\n",
    "import seaborn as sns\n",
    "from locale import atof, atoi, setlocale, LC_NUMERIC\n",
    "import re"
   ]
  },
  {
   "cell_type": "code",
   "execution_count": 9,
   "metadata": {
    "ExecuteTime": {
     "end_time": "2020-10-21T21:55:05.555952Z",
     "start_time": "2020-10-21T21:55:05.543722Z"
    }
   },
   "outputs": [],
   "source": [
    "class scraper:\n",
    "  def __init__(self):\n",
    "    self.paDriver = webdriver.chrome.webdriver.WebDriver('/usr/local/bin/chromedriver.85')\n",
    "    self.paDriver.set_window_position(2000, 0)\n",
    "    self.urlBase = \"https://www.basketball-reference.com/awards/all_star_by_player.html\"\n",
    "#     self.urlBase = \"https://www.thegrandwhiskyauction.com/september-auction\"\n",
    "\n",
    "#     self.paDriver.get(f\"https://www.thegrandwhiskyauction.com/{self.month}-{self.year}\")\n",
    "    self.paDriver.get(f\"{self.urlBase}\")\n",
    "\n",
    "    print(self.paDriver.title)\n",
    "\n",
    "#     assert \"Past Auctions - Fine & Rare Scotch Whisky | The Grand Whisky Auction\" in self.paDriver.title\n",
    "    self.F = open(f'allStar.json', \"wt\")\n",
    "    self.F.writelines('[\\n')\n",
    "#     self.html = BeautifulSoup(self.paDriver.page_source, 'html.parser')\n",
    "    self.html = BeautifulSoup(self.paDriver.page_source, 'html.parser')      \n",
    "#   @contextmanager\n",
    "#   def wait_for_page_load(self, timeout=30):\n",
    "#     old_page = self.paDriver.find_element_by_tag_name('html')\n",
    "#     yield\n",
    "#     WebDriverWait(self.paDriver, timeout).until(\n",
    "#       staleness_of(old_page)\n",
    "#     )    \n",
    "    \n",
    "  def close(self):\n",
    "    offset = self.F.tell()\n",
    "    print('offset', offset)\n",
    "    self.F.seek(offset - 2)\n",
    "    self.F.writelines('\\n]\\n')\n",
    "    self.F.close()\n",
    "    self.paDriver.close()\n",
    "  def dumpPage(self):\n",
    "    tbody = self.html.find('tbody')\n",
    "#     trs = tbody.find_all('tr', data-row=re.compile(\"\\d+\"))\n",
    "    trs = tbody.find_all('tr', attrs={'data-row': re.compile(\"\\d+\")})\n",
    "#     trs = tbody.find_all('tr')\n",
    "    \n",
    "    print('len(trs)', len(trs))\n",
    "    for tr in trs: \n",
    "      tds = tr.find_all('td')\n",
    "      if len(tds) < 4:\n",
    "        continue\n",
    "      player = tds[1].a.text\n",
    "      allStar = atoi(tds[3].text)\n",
    "                      \n",
    "      json.dump({\"PLAYER\": player, \"ALLSTAR\": allStar\n",
    "                }, self.F)\n",
    "      self.F.writelines(',\\n')\n",
    "            "
   ]
  },
  {
   "cell_type": "code",
   "execution_count": 10,
   "metadata": {
    "ExecuteTime": {
     "end_time": "2020-10-21T21:55:11.291250Z",
     "start_time": "2020-10-21T21:55:06.591008Z"
    }
   },
   "outputs": [
    {
     "name": "stdout",
     "output_type": "stream",
     "text": [
      "All-Star Game Selections by Player | Basketball-Reference.com\n"
     ]
    }
   ],
   "source": [
    "s = scraper()"
   ]
  },
  {
   "cell_type": "code",
   "execution_count": 11,
   "metadata": {
    "ExecuteTime": {
     "end_time": "2020-10-21T21:55:35.444110Z",
     "start_time": "2020-10-21T21:55:35.396824Z"
    }
   },
   "outputs": [
    {
     "name": "stdout",
     "output_type": "stream",
     "text": [
      "len(trs) 517\n"
     ]
    }
   ],
   "source": [
    "s.dumpPage()"
   ]
  },
  {
   "cell_type": "code",
   "execution_count": 12,
   "metadata": {
    "ExecuteTime": {
     "end_time": "2020-10-21T21:55:40.101952Z",
     "start_time": "2020-10-21T21:55:39.680210Z"
    }
   },
   "outputs": [
    {
     "name": "stdout",
     "output_type": "stream",
     "text": [
      "offset 21406\n"
     ]
    }
   ],
   "source": [
    "s.close()"
   ]
  },
  {
   "cell_type": "code",
   "execution_count": null,
   "metadata": {},
   "outputs": [],
   "source": []
  }
 ],
 "metadata": {
  "kernelspec": {
   "display_name": "Python 3",
   "language": "python",
   "name": "python3"
  },
  "language_info": {
   "codemirror_mode": {
    "name": "ipython",
    "version": 3
   },
   "file_extension": ".py",
   "mimetype": "text/x-python",
   "name": "python",
   "nbconvert_exporter": "python",
   "pygments_lexer": "ipython3",
   "version": "3.8.6"
  },
  "latex_envs": {
   "LaTeX_envs_menu_present": true,
   "autoclose": false,
   "autocomplete": true,
   "bibliofile": "biblio.bib",
   "cite_by": "apalike",
   "current_citInitial": 1,
   "eqLabelWithNumbers": true,
   "eqNumInitial": 1,
   "hotkeys": {
    "equation": "Ctrl-E",
    "itemize": "Ctrl-I"
   },
   "labels_anchors": false,
   "latex_user_defs": false,
   "report_style_numbering": false,
   "user_envs_cfg": false
  }
 },
 "nbformat": 4,
 "nbformat_minor": 4
}
