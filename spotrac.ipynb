{
 "cells": [
  {
   "cell_type": "code",
   "execution_count": 3,
   "metadata": {
    "ExecuteTime": {
     "end_time": "2020-10-21T18:36:11.608913Z",
     "start_time": "2020-10-21T18:36:10.824838Z"
    }
   },
   "outputs": [],
   "source": [
    "from selenium import webdriver\n",
    "from selenium.webdriver.common.keys import Keys\n",
    "from selenium.webdriver.common.by import By\n",
    "from selenium.webdriver.support.ui import WebDriverWait\n",
    "from selenium.common.exceptions import WebDriverException\n",
    "from bs4 import BeautifulSoup\n",
    "import numpy as np\n",
    "import pandas as pd\n",
    "import matplotlib.pyplot as plt\n",
    "import seaborn as sns\n",
    "from locale import atof, atoi, setlocale, LC_NUMERIC\n",
    "import re"
   ]
  },
  {
   "cell_type": "code",
   "execution_count": 45,
   "metadata": {
    "ExecuteTime": {
     "end_time": "2020-10-21T19:10:22.850395Z",
     "start_time": "2020-10-21T19:10:22.829790Z"
    }
   },
   "outputs": [],
   "source": [
    "class scraper:\n",
    "  def __init__(self):\n",
    "    self.paDriver = webdriver.chrome.webdriver.WebDriver('/usr/local/bin/chromedriver.85')\n",
    "#     self.paDriver.get(\"https://www.thegrandwhiskyauction.com/past-auctions\")\n",
    "    self.paDriver.set_window_position(2000, 0)\n",
    "    self.urlBase = \"https://www.spotrac.com/nba/contracts/sort-value/guard/limit-500/\"\n",
    "#     self.urlBase = \"https://www.thegrandwhiskyauction.com/september-auction\"\n",
    "\n",
    "#     self.paDriver.get(f\"https://www.thegrandwhiskyauction.com/{self.month}-{self.year}\")\n",
    "    self.paDriver.get(f\"{self.urlBase}\")\n",
    "\n",
    "    print(self.paDriver.title)\n",
    "\n",
    "#     assert \"Past Auctions - Fine & Rare Scotch Whisky | The Grand Whisky Auction\" in self.paDriver.title\n",
    "    self.F = open(f'spotrac.json', \"wt\")\n",
    "    self.F.writelines('[\\n')\n",
    "#     self.html = BeautifulSoup(self.paDriver.page_source, 'html.parser')\n",
    "    self.html = BeautifulSoup(self.paDriver.page_source, 'html.parser') \n",
    "  \n",
    "#   @contextmanager\n",
    "#   def wait_for_page_load(self, timeout=30):\n",
    "#     old_page = self.paDriver.find_element_by_tag_name('html')\n",
    "#     yield\n",
    "#     WebDriverWait(self.paDriver, timeout).until(\n",
    "#       staleness_of(old_page)\n",
    "#     )    \n",
    "    \n",
    "  def close(self):\n",
    "    offset = self.F.tell()\n",
    "    print('offset', offset)\n",
    "    self.F.seek(offset - 2)\n",
    "    self.F.writelines('\\n]\\n')\n",
    "    self.F.close()\n",
    "    self.paDriver.close()\n",
    "  def dumpPage(self):\n",
    "    tbody = self.html.find('tbody')\n",
    "#     trs = tbody.find_all('tr', data-row=re.compile(\"\\d+\"))\n",
    "#     trs = tbody.find_all('tr', attrs={'role': 'row'})\n",
    "    trs = tbody.find_all('tr')\n",
    "\n",
    "#     trs = tbody.find_all('tr')\n",
    "    \n",
    "    print('len(trs)', len(trs))\n",
    "    for tr in trs: \n",
    "      tds = tr.find_all('td')\n",
    "      if len(tds) < 4:\n",
    "        continue\n",
    "#       print('tds[1]', tds[1])\n",
    "      player = tds[1].find_all('a', {\"class\": \"team-name\"})[0].text\n",
    "      age = atoi(tds[2].text)\n",
    "      years = atoi(tds[3].text)\n",
    "                      \n",
    "      json.dump({\"PLAYER\": player, \"AGE\": age + 3, \"YEARS\": years + 3\n",
    "                }, self.F)\n",
    "      self.F.writelines(',\\n')\n",
    "            "
   ]
  },
  {
   "cell_type": "code",
   "execution_count": 46,
   "metadata": {
    "ExecuteTime": {
     "end_time": "2020-10-21T19:10:32.770168Z",
     "start_time": "2020-10-21T19:10:24.324624Z"
    }
   },
   "outputs": [
    {
     "name": "stdout",
     "output_type": "stream",
     "text": [
      "Guard Active Player Contracts | Spotrac\n"
     ]
    }
   ],
   "source": [
    "s = scraper()"
   ]
  },
  {
   "cell_type": "code",
   "execution_count": 47,
   "metadata": {
    "ExecuteTime": {
     "end_time": "2020-10-21T19:10:44.668764Z",
     "start_time": "2020-10-21T19:10:44.625063Z"
    }
   },
   "outputs": [
    {
     "name": "stdout",
     "output_type": "stream",
     "text": [
      "len(trs) 184\n"
     ]
    }
   ],
   "source": [
    "s.dumpPage()"
   ]
  },
  {
   "cell_type": "code",
   "execution_count": 48,
   "metadata": {
    "ExecuteTime": {
     "end_time": "2020-10-21T19:10:49.300821Z",
     "start_time": "2020-10-21T19:10:49.098814Z"
    }
   },
   "outputs": [
    {
     "name": "stdout",
     "output_type": "stream",
     "text": [
      "offset 9606\n"
     ]
    }
   ],
   "source": [
    "s.close()"
   ]
  },
  {
   "cell_type": "code",
   "execution_count": null,
   "metadata": {},
   "outputs": [],
   "source": []
  }
 ],
 "metadata": {
  "kernelspec": {
   "display_name": "Python 3",
   "language": "python",
   "name": "python3"
  },
  "language_info": {
   "codemirror_mode": {
    "name": "ipython",
    "version": 3
   },
   "file_extension": ".py",
   "mimetype": "text/x-python",
   "name": "python",
   "nbconvert_exporter": "python",
   "pygments_lexer": "ipython3",
   "version": "3.8.6"
  },
  "latex_envs": {
   "LaTeX_envs_menu_present": true,
   "autoclose": false,
   "autocomplete": true,
   "bibliofile": "biblio.bib",
   "cite_by": "apalike",
   "current_citInitial": 1,
   "eqLabelWithNumbers": true,
   "eqNumInitial": 1,
   "hotkeys": {
    "equation": "Ctrl-E",
    "itemize": "Ctrl-I"
   },
   "labels_anchors": false,
   "latex_user_defs": false,
   "report_style_numbering": false,
   "user_envs_cfg": false
  }
 },
 "nbformat": 4,
 "nbformat_minor": 4
}
