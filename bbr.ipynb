{
 "cells": [
  {
   "cell_type": "code",
   "execution_count": 4,
   "metadata": {
    "ExecuteTime": {
     "end_time": "2020-10-19T19:13:01.196089Z",
     "start_time": "2020-10-19T19:13:00.267718Z"
    }
   },
   "outputs": [],
   "source": [
    "from selenium import webdriver\n",
    "from selenium.webdriver.common.keys import Keys\n",
    "from selenium.webdriver.common.by import By\n",
    "from selenium.webdriver.support.ui import WebDriverWait\n",
    "from selenium.common.exceptions import WebDriverException\n",
    "from bs4 import BeautifulSoup\n",
    "import numpy as np\n",
    "import pandas as pd\n",
    "import matplotlib.pyplot as plt\n",
    "import seaborn as sns\n",
    "from locale import atof, atoi, setlocale, LC_NUMERIC\n",
    "import re"
   ]
  },
  {
   "cell_type": "code",
   "execution_count": 26,
   "metadata": {
    "ExecuteTime": {
     "end_time": "2020-10-19T19:29:16.100384Z",
     "start_time": "2020-10-19T19:29:16.093276Z"
    }
   },
   "outputs": [],
   "source": [
    "class scraper:\n",
    "  def __init__(self, month='august', year=2020):\n",
    "    self.paDriver = webdriver.chrome.webdriver.WebDriver('/usr/local/bin/chromedriver.85')\n",
    "#     self.paDriver.get(\"https://www.thegrandwhiskyauction.com/past-auctions\")\n",
    "    self.month = month\n",
    "    self.year = year\n",
    "    self.urlBase = \"https://www.basketball-reference.com/contracts/players.html\"\n",
    "#     self.urlBase = \"https://www.thegrandwhiskyauction.com/september-auction\"\n",
    "\n",
    "#     self.paDriver.get(f\"https://www.thegrandwhiskyauction.com/{self.month}-{self.year}\")\n",
    "    self.paDriver.get(f\"{self.urlBase}\")\n",
    "\n",
    "    print(self.paDriver.title)\n",
    "\n",
    "#     assert \"Past Auctions - Fine & Rare Scotch Whisky | The Grand Whisky Auction\" in self.paDriver.title\n",
    "    self.F = open(f'salaries.json', \"wt\")\n",
    "    self.F.writelines('[\\n')\n",
    "#     self.html = BeautifulSoup(self.paDriver.page_source, 'html.parser')\n",
    "    self.html = BeautifulSoup(self.paDriver.page_source, 'html.parser')      \n",
    "#   @contextmanager\n",
    "#   def wait_for_page_load(self, timeout=30):\n",
    "#     old_page = self.paDriver.find_element_by_tag_name('html')\n",
    "#     yield\n",
    "#     WebDriverWait(self.paDriver, timeout).until(\n",
    "#       staleness_of(old_page)\n",
    "#     )    \n",
    "    \n",
    "  def wait_for_correct_current_url(self, desired_url):\n",
    "      self.wait.until(\n",
    "          lambda driver: driver.current_url == desired_url)\n",
    "  def close(self):\n",
    "    offset = self.F.tell()\n",
    "    print('offset', offset)\n",
    "    self.F.seek(offset - 2)\n",
    "    self.F.writelines('\\n]\\n')\n",
    "    self.F.close()\n",
    "    self.paDriver.close()\n",
    "  def dumpPage(self):\n",
    "    tbody = self.html.find('tbody')\n",
    "#     trs = tbody.find_all('tr', data-row=re.compile(\"\\d+\"))\n",
    "    trs = tbody.find_all('tr', attrs={'data-row': re.compile(\"\\d+\")})\n",
    "#     trs = tbody.find_all('tr')\n",
    "    \n",
    "    print('len(trs)', len(trs))\n",
    "    for tr in trs: \n",
    "      tds = tr.find_all('td')\n",
    "      if len(tds) < 3:\n",
    "        continue\n",
    "      player = tds[0].text\n",
    "      team = tds[1].text\n",
    "      salary = atoi(tds[2]['csk'])\n",
    "                      \n",
    "      json.dump({\"PLAYER\": player, \"team\": team, \"salary\": salary\n",
    "                }, self.F)\n",
    "      self.F.writelines(',\\n')\n",
    "            "
   ]
  },
  {
   "cell_type": "code",
   "execution_count": 27,
   "metadata": {
    "ExecuteTime": {
     "end_time": "2020-10-19T19:29:21.235072Z",
     "start_time": "2020-10-19T19:29:16.768402Z"
    }
   },
   "outputs": [
    {
     "name": "stdout",
     "output_type": "stream",
     "text": [
      "2019-20 NBA Player Contracts | Basketball-Reference.com\n"
     ]
    }
   ],
   "source": [
    "s=scraper()"
   ]
  },
  {
   "cell_type": "code",
   "execution_count": 28,
   "metadata": {
    "ExecuteTime": {
     "end_time": "2020-10-19T19:29:47.168058Z",
     "start_time": "2020-10-19T19:29:47.102530Z"
    }
   },
   "outputs": [
    {
     "name": "stdout",
     "output_type": "stream",
     "text": [
      "len(trs) 624\n"
     ]
    }
   ],
   "source": [
    "s.dumpPage()"
   ]
  },
  {
   "cell_type": "code",
   "execution_count": 29,
   "metadata": {
    "ExecuteTime": {
     "end_time": "2020-10-19T19:30:07.448692Z",
     "start_time": "2020-10-19T19:30:07.441076Z"
    }
   },
   "outputs": [
    {
     "name": "stdout",
     "output_type": "stream",
     "text": [
      "offset 36045\n"
     ]
    }
   ],
   "source": [
    "s.close()"
   ]
  },
  {
   "cell_type": "code",
   "execution_count": null,
   "metadata": {},
   "outputs": [],
   "source": []
  }
 ],
 "metadata": {
  "kernelspec": {
   "display_name": "Python 3",
   "language": "python",
   "name": "python3"
  },
  "language_info": {
   "codemirror_mode": {
    "name": "ipython",
    "version": 3
   },
   "file_extension": ".py",
   "mimetype": "text/x-python",
   "name": "python",
   "nbconvert_exporter": "python",
   "pygments_lexer": "ipython3",
   "version": "3.8.6"
  },
  "latex_envs": {
   "LaTeX_envs_menu_present": true,
   "autoclose": false,
   "autocomplete": true,
   "bibliofile": "biblio.bib",
   "cite_by": "apalike",
   "current_citInitial": 1,
   "eqLabelWithNumbers": true,
   "eqNumInitial": 1,
   "hotkeys": {
    "equation": "Ctrl-E",
    "itemize": "Ctrl-I"
   },
   "labels_anchors": false,
   "latex_user_defs": false,
   "report_style_numbering": false,
   "user_envs_cfg": false
  }
 },
 "nbformat": 4,
 "nbformat_minor": 4
}
