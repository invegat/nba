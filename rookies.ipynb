{
 "cells": [
  {
   "cell_type": "code",
   "execution_count": 1,
   "metadata": {
    "ExecuteTime": {
     "end_time": "2020-10-21T00:00:52.438613Z",
     "start_time": "2020-10-21T00:00:51.612820Z"
    }
   },
   "outputs": [],
   "source": [
    "from selenium import webdriver\n",
    "from selenium.webdriver.common.keys import Keys\n",
    "from selenium.webdriver.common.by import By\n",
    "from selenium.webdriver.support import expected_conditions as EC\n",
    "from selenium.webdriver.support.ui import WebDriverWait\n",
    "# from selenium.webdriver.support.ui import Select\n",
    "import selenium.webdriver.support.select as Select\n",
    "from selenium.common.exceptions import WebDriverException\n",
    "from bs4 import BeautifulSoup\n",
    "import numpy as np\n",
    "import pandas as pd\n",
    "import matplotlib.pyplot as plt\n",
    "import seaborn as sns\n",
    "from locale import atof, atoi, setlocale, LC_NUMERIC\n",
    "from time import sleep\n"
   ]
  },
  {
   "cell_type": "code",
   "execution_count": 6,
   "metadata": {
    "ExecuteTime": {
     "end_time": "2020-10-21T00:31:59.648227Z",
     "start_time": "2020-10-21T00:31:59.632583Z"
    }
   },
   "outputs": [],
   "source": [
    "class scraper:\n",
    "  def __init__(self):\n",
    "    self.paDriver = webdriver.chrome.webdriver.WebDriver('/usr/local/bin/chromedriver.85')\n",
    "    self.paDriver.set_window_position(2000, 0)\n",
    "    self.urlBase = f\"https://www.basketball-reference.com/leagues/NBA_2020_rookies.html\"\n",
    "    self.paDriver.get(f\"{self.urlBase}\")\n",
    "    self.wait = WebDriverWait(self.paDriver, 200)\n",
    "    print(self.paDriver.title)\n",
    "    self.F = open(f'rookies.json', \"wt\")\n",
    "    self.F.writelines('[\\n')\n",
    "#     self.html = BeautifulSoup(self.paDriver.page_source, 'html.parser')\n",
    "    self.html = BeautifulSoup(self.paDriver.page_source, 'html.parser')      \n",
    "  def close(self):\n",
    "    offset = self.F.tell()\n",
    "    print('offset', offset)\n",
    "    self.F.seek(offset - 2)\n",
    "    self.F.writelines('\\n]\\n')\n",
    "    self.F.close()\n",
    "    self.paDriver.close()\n",
    "  def dumpPage(self):\n",
    "    tbody = self.html.find('tbody')\n",
    "    tds = tbody.find_all('td', {\"data-stat\": \"player\"})\n",
    "    print('len(tds)', len(tds))\n",
    "    for td in tds:\n",
    "      try:\n",
    "        player = td.a.text\n",
    "        json.dump({\"PLAYER\": player\n",
    "                }, self.F)\n",
    "        self.F.writelines(',\\n')\n",
    "      except:\n",
    "        continue\n",
    "            "
   ]
  },
  {
   "cell_type": "code",
   "execution_count": 7,
   "metadata": {
    "ExecuteTime": {
     "end_time": "2020-10-21T00:32:05.362954Z",
     "start_time": "2020-10-21T00:32:00.998875Z"
    }
   },
   "outputs": [
    {
     "name": "stdout",
     "output_type": "stream",
     "text": [
      "2019-20 NBA Rookies | Basketball-Reference.com\n"
     ]
    }
   ],
   "source": [
    "s = scraper()"
   ]
  },
  {
   "cell_type": "code",
   "execution_count": 8,
   "metadata": {
    "ExecuteTime": {
     "end_time": "2020-10-21T00:32:14.443316Z",
     "start_time": "2020-10-21T00:32:14.370172Z"
    }
   },
   "outputs": [
    {
     "name": "stdout",
     "output_type": "stream",
     "text": [
      "len(tds) 118\n"
     ]
    }
   ],
   "source": [
    "s.dumpPage()"
   ]
  },
  {
   "cell_type": "code",
   "execution_count": 9,
   "metadata": {
    "ExecuteTime": {
     "end_time": "2020-10-21T00:32:23.392635Z",
     "start_time": "2020-10-21T00:32:22.974155Z"
    }
   },
   "outputs": [
    {
     "name": "stdout",
     "output_type": "stream",
     "text": [
      "offset 3463\n"
     ]
    }
   ],
   "source": [
    "s.close()"
   ]
  },
  {
   "cell_type": "code",
   "execution_count": null,
   "metadata": {},
   "outputs": [],
   "source": []
  }
 ],
 "metadata": {
  "kernelspec": {
   "display_name": "Python 3",
   "language": "python",
   "name": "python3"
  },
  "language_info": {
   "codemirror_mode": {
    "name": "ipython",
    "version": 3
   },
   "file_extension": ".py",
   "mimetype": "text/x-python",
   "name": "python",
   "nbconvert_exporter": "python",
   "pygments_lexer": "ipython3",
   "version": "3.8.6"
  },
  "latex_envs": {
   "LaTeX_envs_menu_present": true,
   "autoclose": false,
   "autocomplete": true,
   "bibliofile": "biblio.bib",
   "cite_by": "apalike",
   "current_citInitial": 1,
   "eqLabelWithNumbers": true,
   "eqNumInitial": 1,
   "hotkeys": {
    "equation": "Ctrl-E",
    "itemize": "Ctrl-I"
   },
   "labels_anchors": false,
   "latex_user_defs": false,
   "report_style_numbering": false,
   "user_envs_cfg": false
  }
 },
 "nbformat": 4,
 "nbformat_minor": 4
}
