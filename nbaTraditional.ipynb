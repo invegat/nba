{
 "cells": [
  {
   "cell_type": "code",
   "execution_count": 28,
   "metadata": {
    "ExecuteTime": {
     "end_time": "2020-10-21T16:58:44.964760Z",
     "start_time": "2020-10-21T16:58:44.954987Z"
    }
   },
   "outputs": [],
   "source": [
    "from selenium import webdriver\n",
    "from selenium.webdriver.common.keys import Keys\n",
    "from selenium.webdriver.common.by import By\n",
    "from selenium.webdriver.support import expected_conditions as EC\n",
    "from selenium.webdriver.support.ui import WebDriverWait\n",
    "# from selenium.webdriver.support.ui import Select\n",
    "import selenium.webdriver.support.select as Select\n",
    "from selenium.common.exceptions import WebDriverException\n",
    "from bs4 import BeautifulSoup\n",
    "import numpy as np\n",
    "import pandas as pd\n",
    "import matplotlib.pyplot as plt\n",
    "import seaborn as sns\n",
    "from locale import atof, atoi, setlocale, LC_NUMERIC\n",
    "from time import sleep\n"
   ]
  },
  {
   "cell_type": "code",
   "execution_count": 59,
   "metadata": {
    "ExecuteTime": {
     "end_time": "2020-10-21T17:55:10.209271Z",
     "start_time": "2020-10-21T17:55:10.176359Z"
    }
   },
   "outputs": [],
   "source": [
    "class scraper:\n",
    "  def __init__(self, month='august', year=2020):\n",
    "    self.paDriver = webdriver.chrome.webdriver.WebDriver('/usr/local/bin/chromedriver.85')\n",
    "    self.paDriver.set_window_position(2000, 0)\n",
    "    self.urlBase = f\"https://stats.nba.com/players/traditional/?sort=PTS&dir=-1&Season=2019-20&SeasonType=Regular%20Season&PlayerPosition=G\"\n",
    "    self.paDriver.get(f\"{self.urlBase}\")\n",
    "    self.wait = WebDriverWait(self.paDriver, 200)\n",
    "    print(self.paDriver.title)\n",
    "    sleep(3)\n",
    "#     pd = self.paDriver.find_element_by_css_selector(\n",
    "#       \"select[class='stats-table-pagination__select ng-valid ng-not-empty ng-dirty ng-valid-parse ng-touched']\")\n",
    "    pd = self.paDriver.find_element_by_css_selector(\"select[ng-model='vm.data.page']\")\n",
    "#     ne = self.wait.until(EC.presence_of_element_located(pd))        \n",
    "#     select = Select(self.paDriver.find_element_by_css_selector(\"select[class='stats-table-pagination__select ng-valid ng-not-empty ng-dirty ng-valid-parse ng-touched']\"))\n",
    "    # stats-table-pagination__select ng-valid ng-not-empty ng-dirty ng-valid-parse ng-touched\n",
    "    select = Select.Select(pd)\n",
    "#     select.select_by_visible_text('all')\n",
    "    select.select_by_index('0')\n",
    "#     select.click()\n",
    "#     self.urlBase = \"https://www.thegrandwhiskyauction.com/september-auction\"\n",
    "\n",
    "#     self.paDriver.get(f\"https://www.thegrandwhiskyauction.com/{self.month}-{self.year}\")\n",
    "\n",
    "#     assert \"Past Auctions - Fine & Rare Scotch Whisky | The Grand Whisky Auction\" in self.paDriver.title\n",
    "    self.F = open(f'nba.tradional.json', \"wt\")\n",
    "    self.F.writelines('[\\n')\n",
    "#     self.html = BeautifulSoup(self.paDriver.page_source, 'html.parser')\n",
    "    self.html = BeautifulSoup(self.paDriver.page_source, 'html.parser')      \n",
    "#   @contextmanager\n",
    "#   def wait_for_page_load(self, timeout=30):\n",
    "#     old_page = self.paDriver.find_element_by_tag_name('html')\n",
    "#     yield\n",
    "#     WebDriverWait(self.paDriver, timeout).until(\n",
    "#       staleness_of(old_page)\n",
    "#     )    \n",
    "    \n",
    "#   def wait_for_correct_current_url(self, desired_url):\n",
    "#       self.wait.until(\n",
    "#           lambda driver: driver.current_url == desired_url)\n",
    "#   def setPerPage(self):\n",
    "#     s = self.paDriver.find_element_by_css_selector(\"select[class='perPage fdropdown vueControlled']\")\n",
    "# #     s.click()\n",
    "#     s = select.Select(s)\n",
    "#     dir(s)\n",
    "#     # s.select_by_index(4)\n",
    "#   def nextPage(self):\n",
    "#     if self.numberOfPages == self.pageno:\n",
    "#       return False\n",
    "#     tryNumber = 0\n",
    "#     while tryNumber < 3:\n",
    "#       try:\n",
    "#         ne = self.wait.until(EC.element_to_be_clickable((By.CSS_SELECTOR, \\\n",
    "#                         \"li[class='next']\"))) \n",
    "#       except:\n",
    "#         ne = None\n",
    "#   #     ne = self.paDriver.find_element_by_css_selector(\"li[class='next']\")\n",
    "#       if ne is not None:\n",
    "#         self.paDriver.execute_script(\"arguments[0].scrollIntoView();\", ne)\n",
    "#         ne.click()    \n",
    "#   #       actions = ActionChains(self.paDriver)\n",
    "#   #       actions.move_to_element(ne).perform()          \n",
    "#   #       ne.click()\n",
    "#         self.pageno += 1\n",
    "# #         newUrl = \\\n",
    "# #           f\"https://www.thegrandwhiskyauction.com/{self.month}-{self.year}/page-{self.pageno}\"\n",
    "#         newUrl = f\"{self.urlBase}/page-{self.pageno}\"\n",
    "#         print('newUrl', newUrl)\n",
    "#         self.wait_for_correct_current_url(newUrl)\n",
    "#         self.html = BeautifulSoup(self.paDriver.page_source, 'html.parser') \n",
    "#         return True\n",
    "#       if tryNumber < 2:\n",
    "#         ne = self.paDriver.find_element_by_css_selector(\"li[class='next']\")      \n",
    "#         self.paDriver.execute_script(\"arguments[0].scrollIntoView();\", ne)\n",
    "#         time.sleep(15)\n",
    "#       tryNumber += 1\n",
    "#     return False\n",
    "  def close(self):\n",
    "    offset = self.F.tell()\n",
    "    print('offset', offset)\n",
    "    self.F.seek(offset - 2)\n",
    "    self.F.writelines('\\n]\\n')\n",
    "    self.F.close()\n",
    "    self.paDriver.close()\n",
    "  def dumpPage(self):\n",
    "    tbody = self.html.find('tbody')\n",
    "    trs = tbody.find_all('tr')\n",
    "    print('len(trs)', len(trs))\n",
    "    for tr in trs: \n",
    "      tds = tr.find_all('td')\n",
    "#       print('len(tds)', len(tds))\n",
    "      if len(tds) != 30:\n",
    "        continue\n",
    "      name = tds[1].a.text.strip()\n",
    "      team = tds[2].a.text.strip()\n",
    "      age = tds[3].text.strip()\n",
    "      gp = tds[4].text.strip()\n",
    "      w = tds[5].text.strip()\n",
    "      l = tds[6].text.strip()\n",
    "      minutes = tds[7].text.strip()\n",
    "      points  = tds[8].text.strip()\n",
    "      fgm = tds[9].text.strip()\n",
    "      fga = tds[10].text.strip()\n",
    "      fgP = tds[11].text.strip()\n",
    "      threePM = tds[12].text.strip()\n",
    "      threePA = tds[13].text.strip()\n",
    "      threePP = tds[14].text.strip()\n",
    "      fTM = tds[15].text.strip()\n",
    "      fTA = tds[16].text.strip()\n",
    "      ftP = tds[17].text.strip()\n",
    "      oREB = tds[18].text.strip()\n",
    "      dREB = tds[19].text.strip()\n",
    "      rEB = tds[20].text.strip()\n",
    "      aST=tds[21].text.strip()\n",
    "      tOV=tds[22].text.strip()\n",
    "      sTL=tds[23].text.strip()\n",
    "      bLK=tds[24].text.strip()\n",
    "      pF=tds[25].text.strip()\n",
    "      fP=tds[26].text.strip()\n",
    "      d02=tds[27].text.strip()\n",
    "      td3=tds[28].text.strip()\n",
    "      pM=tds[29].text.strip()\n",
    "#       print(f\"tds[26] {tds[26]}  tds[27] {tds[27]}  tds[28] {tds[28]}  tds[29] {tds[29]}\")\n",
    "          \n",
    "      json.dump({\"PLAYER\": name, \"TEAM\": team, \"AGE\": age, \"GP\":gp,'W':w,'L':l,\"MIN\": minutes, \\\n",
    "                 \"POINTS\":points, \"FGM\": fgm, \"FGA\": fga, \"3PM\":threePM, \"3PA\":threePA, \\\n",
    "                 \"3P%\": threePP, \"FTM\": fTM, \"FTA\": fTA, \"FT%\": ftP, \"OREB\": oREB, \\\n",
    "                 \"DREB\": dREB,  \"REB\": rEB,  \"AST\": aST, \"TOV\": tOV, \"STL\":sTL, \"PF\": pF, \"FP\": fP, \\\n",
    "                 \"DO2\": d02, \"TD3\": td3, '+/-': pM\n",
    "                }, self.F)\n",
    "      self.F.writelines(',\\n')\n",
    "            "
   ]
  },
  {
   "cell_type": "code",
   "execution_count": 60,
   "metadata": {
    "ExecuteTime": {
     "end_time": "2020-10-21T17:55:29.537568Z",
     "start_time": "2020-10-21T17:55:15.071715Z"
    }
   },
   "outputs": [
    {
     "name": "stdout",
     "output_type": "stream",
     "text": [
      "NBA.com/Stats | Players Traditional\n"
     ]
    }
   ],
   "source": [
    "s = scraper()"
   ]
  },
  {
   "cell_type": "code",
   "execution_count": 61,
   "metadata": {
    "ExecuteTime": {
     "end_time": "2020-10-21T17:55:37.852288Z",
     "start_time": "2020-10-21T17:55:37.751743Z"
    }
   },
   "outputs": [
    {
     "name": "stdout",
     "output_type": "stream",
     "text": [
      "len(trs) 283\n"
     ]
    }
   ],
   "source": [
    "s.dumpPage()"
   ]
  },
  {
   "cell_type": "code",
   "execution_count": 62,
   "metadata": {
    "ExecuteTime": {
     "end_time": "2020-10-21T17:55:39.259191Z",
     "start_time": "2020-10-21T17:55:39.103764Z"
    }
   },
   "outputs": [
    {
     "name": "stdout",
     "output_type": "stream",
     "text": [
      "offset 109822\n"
     ]
    }
   ],
   "source": [
    "s.close()"
   ]
  },
  {
   "cell_type": "code",
   "execution_count": null,
   "metadata": {},
   "outputs": [],
   "source": []
  }
 ],
 "metadata": {
  "kernelspec": {
   "display_name": "Python 3",
   "language": "python",
   "name": "python3"
  },
  "language_info": {
   "codemirror_mode": {
    "name": "ipython",
    "version": 3
   },
   "file_extension": ".py",
   "mimetype": "text/x-python",
   "name": "python",
   "nbconvert_exporter": "python",
   "pygments_lexer": "ipython3",
   "version": "3.8.6"
  },
  "latex_envs": {
   "LaTeX_envs_menu_present": true,
   "autoclose": false,
   "autocomplete": true,
   "bibliofile": "biblio.bib",
   "cite_by": "apalike",
   "current_citInitial": 1,
   "eqLabelWithNumbers": true,
   "eqNumInitial": 1,
   "hotkeys": {
    "equation": "Ctrl-E",
    "itemize": "Ctrl-I"
   },
   "labels_anchors": false,
   "latex_user_defs": false,
   "report_style_numbering": false,
   "user_envs_cfg": false
  }
 },
 "nbformat": 4,
 "nbformat_minor": 4
}
